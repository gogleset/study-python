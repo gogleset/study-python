{
 "cells": [
  {
   "cell_type": "markdown",
   "id": "f69a9d38-de92-4c69-b546-f9dfd3f74281",
   "metadata": {},
   "source": [
    "# Jupiter Notebook\n",
    "주피터 노트북은 웹 브라우저 상에서 개발을 할 수 있는 도구이며, 코드를 Cell 단위로 묶어서 실행하고, 그래프나 표, 그리고 이미지나 영상등을 쉽게 볼 수 있어서 특히 데이터 관련 작업을 할때 많이 활용됩니다,\n",
    "> 교육을 위한 강의 노트로도 아주 훌륭해요! "
   ]
  },
  {
   "attachments": {
    "62569c67-49ef-405d-a3c8-abd24f26157d.webp": {
     "image/webp": "[encoded data removed]"
    }
   },
   "cell_type": "markdown",
   "id": "aba8536e-0422-4730-a3bc-cea1a133e876",
   "metadata": {},
   "source": [
    "![1.sm.webp](attachment:62569c67-49ef-405d-a3c8-abd24f26157d.webp)"
   ]
  },
  {
   "cell_type": "markdown",
   "id": "5e829bc8-5c5b-4dca-9903-fd3b1a7612e2",
   "metadata": {},
   "source": [
    "## 특징\n",
    "1. 코드를 셀 단위로 작성 및 실행\n",
    "2. 마크다운을 통한 문서화\n",
    "3. 그래프나 표 등을 실시간으로 확인\n",
    "4. html, pdf 등 파일로 저장"
   ]
  },
  {
   "cell_type": "markdown",
   "id": "1fcb7a7e-dda2-4e76-8ac2-8592dc654c42",
   "metadata": {},
   "source": [
    "## 사전 학습 자료\n",
    "\n",
    "다음 링크에서 파이썬 기본편에 대한 학습을 하실 수 있습니다.  \n",
    "[gogleset's github](https://github.com/gogleset/study-python)"
   ]
  },
  {
   "cell_type": "code",
   "execution_count": 1,
   "id": "d2ec1786-66c3-4353-a628-258676f194d5",
   "metadata": {},
   "outputs": [
    {
     "data": {
      "text/html": [
       "<iframe width=\"640\" height=\"360\" src=\"https://www.youtube.com/embed/dJfq-eCi7KI?list=PLMsa_0kAjjrfYDhzNFLqB8XhSOI0UoIWf\" title=\"아나콘다 환경 설정 및 주피터 노트북 사용법\" frameborder=\"0\" allow=\"accelerometer; autoplay; clipboard-write; encrypted-media; gyroscope; picture-in-picture; web-share\" referrerpolicy=\"strict-origin-when-cross-origin\" allowfullscreen></iframe>\n"
      ],
      "text/plain": [
       "<IPython.core.display.HTML object>"
      ]
     },
     "metadata": {},
     "output_type": "display_data"
    }
   ],
   "source": [
    "%%HTML\n",
    "<iframe width=\"640\" height=\"360\" src=\"https://www.youtube.com/embed/dJfq-eCi7KI?list=PLMsa_0kAjjrfYDhzNFLqB8XhSOI0UoIWf\" title=\"아나콘다 환경 설정 및 주피터 노트북 사용법\" frameborder=\"0\" allow=\"accelerometer; autoplay; clipboard-write; encrypted-media; gyroscope; picture-in-picture; web-share\" referrerpolicy=\"strict-origin-when-cross-origin\" allowfullscreen></iframe>"
   ]
  },
  {
   "cell_type": "markdown",
   "id": "1e2f304a-deb3-44b4-a6ce-9d5c39f5f95a",
   "metadata": {},
   "source": [
    "## 파이썬 기본 문법"
   ]
  },
  {
   "cell_type": "code",
   "execution_count": 2,
   "id": "2bb60b65-abad-4c79-82bf-00ba564b8721",
   "metadata": {},
   "outputs": [
    {
     "name": "stdout",
     "output_type": "stream",
     "text": [
      "Hello World\n"
     ]
    }
   ],
   "source": [
    "print(\"Hello World\")"
   ]
  },
  {
   "cell_type": "code",
   "execution_count": 3,
   "id": "c15048c8-e2ec-45f1-b80c-3c09c0b105e8",
   "metadata": {},
   "outputs": [
    {
     "name": "stdout",
     "output_type": "stream",
     "text": [
      "연탄이\n"
     ]
    }
   ],
   "source": [
    "name = \"연탄이\"\n",
    "print(name)"
   ]
  },
  {
   "cell_type": "code",
   "execution_count": 4,
   "id": "b16a7734-d6ce-4899-9095-1a62e405ae56",
   "metadata": {},
   "outputs": [
    {
     "name": "stdout",
     "output_type": "stream",
     "text": [
      "Ctrl + Enter : 현재 Cell 실행\n"
     ]
    }
   ],
   "source": [
    "print(\"Ctrl + Enter : 현재 Cell 실행\")"
   ]
  },
  {
   "cell_type": "code",
   "execution_count": 5,
   "id": "a9a32fc0-2605-4fd4-85f4-f77366e50ba8",
   "metadata": {},
   "outputs": [
    {
     "name": "stdout",
     "output_type": "stream",
     "text": [
      "Shift + Enter : 현재 Cell 실행 후 다음 Cell 선택\n"
     ]
    }
   ],
   "source": [
    "print(\"Shift + Enter : 현재 Cell 실행 후 다음 Cell 선택\")"
   ]
  },
  {
   "cell_type": "code",
   "execution_count": 6,
   "id": "f1913f60-c21c-43d7-ad32-8c472ba18ea8",
   "metadata": {},
   "outputs": [
    {
     "name": "stdout",
     "output_type": "stream",
     "text": [
      "Alt + Enter : 현재 Cell 실행 후 다음 위치에 Cell 삽입\n"
     ]
    }
   ],
   "source": [
    "print(\"Alt + Enter : 현재 Cell 실행 후 다음 위치에 Cell 삽입\")"
   ]
  },
  {
   "cell_type": "code",
   "execution_count": 7,
   "id": "845777b9-19fb-4035-9b5f-8c6e458f42f1",
   "metadata": {},
   "outputs": [
    {
     "name": "stdout",
     "output_type": "stream",
     "text": [
      "1\n",
      "2\n",
      "3\n"
     ]
    }
   ],
   "source": [
    "print(1)\n",
    "print(\"2\")\n",
    "print(3)"
   ]
  },
  {
   "cell_type": "markdown",
   "id": "ad794616-762b-47a9-ad2a-ad5c9fc9bd49",
   "metadata": {},
   "source": [
    "# 모듈 사용방법"
   ]
  },
  {
   "cell_type": "code",
   "execution_count": 8,
   "id": "4a18b65a-a7b7-4d95-abc4-0d40b054e066",
   "metadata": {},
   "outputs": [
    {
     "name": "stdout",
     "output_type": "stream",
     "text": [
      "9\n"
     ]
    }
   ],
   "source": [
    "import random\n",
    "print(random.randint(1,45))"
   ]
  },
  {
   "cell_type": "code",
   "execution_count": 9,
   "id": "3a2add32-ab5e-451d-ae4f-fd7a647ce538",
   "metadata": {},
   "outputs": [
    {
     "data": {
      "text/plain": [
       "\u001b[0;31mSignature:\u001b[0m \u001b[0mrandom\u001b[0m\u001b[0;34m.\u001b[0m\u001b[0mrandint\u001b[0m\u001b[0;34m(\u001b[0m\u001b[0ma\u001b[0m\u001b[0;34m,\u001b[0m \u001b[0mb\u001b[0m\u001b[0;34m)\u001b[0m\u001b[0;34m\u001b[0m\u001b[0;34m\u001b[0m\u001b[0m\n",
       "\u001b[0;31mDocstring:\u001b[0m\n",
       "Return random integer in range [a, b], including both end points.\n",
       "        \n",
       "\u001b[0;31mFile:\u001b[0m      /opt/homebrew/anaconda3/envs/choij/lib/python3.9/random.py\n",
       "\u001b[0;31mType:\u001b[0m      method"
      ]
     },
     "metadata": {},
     "output_type": "display_data"
    }
   ],
   "source": [
    "random.randint?\n",
    "# shift + enter를 치면 import된 패키지를 알 수 있다."
   ]
  },
  {
   "cell_type": "code",
   "execution_count": 10,
   "id": "7621a8b6-22a9-4134-a304-e37b0be30db4",
   "metadata": {},
   "outputs": [
    {
     "data": {
      "text/plain": [
       "\u001b[0;31mSignature:\u001b[0m \u001b[0mrandom\u001b[0m\u001b[0;34m.\u001b[0m\u001b[0mrandint\u001b[0m\u001b[0;34m(\u001b[0m\u001b[0ma\u001b[0m\u001b[0;34m,\u001b[0m \u001b[0mb\u001b[0m\u001b[0;34m)\u001b[0m\u001b[0;34m\u001b[0m\u001b[0;34m\u001b[0m\u001b[0m\n",
       "\u001b[0;31mDocstring:\u001b[0m\n",
       "Return random integer in range [a, b], including both end points.\n",
       "        \n",
       "\u001b[0;31mSource:\u001b[0m   \n",
       "    \u001b[0;32mdef\u001b[0m \u001b[0mrandint\u001b[0m\u001b[0;34m(\u001b[0m\u001b[0mself\u001b[0m\u001b[0;34m,\u001b[0m \u001b[0ma\u001b[0m\u001b[0;34m,\u001b[0m \u001b[0mb\u001b[0m\u001b[0;34m)\u001b[0m\u001b[0;34m:\u001b[0m\u001b[0;34m\u001b[0m\n",
       "\u001b[0;34m\u001b[0m        \u001b[0;34m\"\"\"Return random integer in range [a, b], including both end points.\u001b[0m\n",
       "\u001b[0;34m        \"\"\"\u001b[0m\u001b[0;34m\u001b[0m\n",
       "\u001b[0;34m\u001b[0m\u001b[0;34m\u001b[0m\n",
       "\u001b[0;34m\u001b[0m        \u001b[0;32mreturn\u001b[0m \u001b[0mself\u001b[0m\u001b[0;34m.\u001b[0m\u001b[0mrandrange\u001b[0m\u001b[0;34m(\u001b[0m\u001b[0ma\u001b[0m\u001b[0;34m,\u001b[0m \u001b[0mb\u001b[0m\u001b[0;34m+\u001b[0m\u001b[0;36m1\u001b[0m\u001b[0;34m)\u001b[0m\u001b[0;34m\u001b[0m\u001b[0;34m\u001b[0m\u001b[0m\n",
       "\u001b[0;31mFile:\u001b[0m      /opt/homebrew/anaconda3/envs/choij/lib/python3.9/random.py\n",
       "\u001b[0;31mType:\u001b[0m      method"
      ]
     },
     "metadata": {},
     "output_type": "display_data"
    }
   ],
   "source": [
    "random.randint??\n",
    "# shift + enter를 치면 import된 패키지를 알 수 있다."
   ]
  },
  {
   "cell_type": "code",
   "execution_count": 11,
   "id": "379722e3-8a09-480f-a6e6-7a4712e48f12",
   "metadata": {},
   "outputs": [],
   "source": [
    "num = 3"
   ]
  },
  {
   "cell_type": "code",
   "execution_count": 12,
   "id": "72b7f35e-3731-48f7-8bcc-11c3c541a5b2",
   "metadata": {},
   "outputs": [],
   "source": [
    "num *= 2"
   ]
  },
  {
   "cell_type": "code",
   "execution_count": 13,
   "id": "d7341d24-8438-4580-96db-58f5d2432d54",
   "metadata": {},
   "outputs": [
    {
     "name": "stdout",
     "output_type": "stream",
     "text": [
      "6\n"
     ]
    }
   ],
   "source": [
    "print(num)"
   ]
  },
  {
   "cell_type": "code",
   "execution_count": 14,
   "id": "64ced74e-7374-4136-9991-0dd1a33ef05e",
   "metadata": {},
   "outputs": [],
   "source": [
    "num += 4"
   ]
  },
  {
   "cell_type": "code",
   "execution_count": 15,
   "id": "ff0ac69e-91ff-4cce-9aac-3eac168ce874",
   "metadata": {},
   "outputs": [
    {
     "name": "stdout",
     "output_type": "stream",
     "text": [
      "10\n"
     ]
    }
   ],
   "source": [
    "print(num)"
   ]
  },
  {
   "cell_type": "code",
   "execution_count": 16,
   "id": "9bec4d44-3df1-485c-bf0d-b0a2dd97e628",
   "metadata": {},
   "outputs": [
    {
     "name": "stdout",
     "output_type": "stream",
     "text": [
      "0\n",
      "1\n",
      "2\n",
      "3\n",
      "4\n",
      "5\n",
      "6\n",
      "7\n",
      "8\n",
      "9\n",
      "10\n",
      "11\n",
      "12\n",
      "13\n",
      "14\n",
      "15\n",
      "16\n",
      "17\n",
      "18\n",
      "19\n",
      "20\n",
      "21\n",
      "22\n",
      "23\n",
      "24\n",
      "25\n",
      "26\n",
      "27\n",
      "28\n",
      "29\n",
      "30\n",
      "31\n",
      "32\n",
      "33\n",
      "34\n",
      "35\n",
      "36\n",
      "37\n",
      "38\n",
      "39\n",
      "40\n",
      "41\n",
      "42\n",
      "43\n",
      "44\n",
      "45\n",
      "46\n",
      "47\n",
      "48\n",
      "49\n",
      "50\n",
      "51\n",
      "52\n",
      "53\n",
      "54\n",
      "55\n",
      "56\n",
      "57\n",
      "58\n",
      "59\n",
      "60\n",
      "61\n",
      "62\n",
      "63\n",
      "64\n",
      "65\n",
      "66\n",
      "67\n",
      "68\n",
      "69\n",
      "70\n",
      "71\n",
      "72\n",
      "73\n",
      "74\n",
      "75\n",
      "76\n",
      "77\n",
      "78\n",
      "79\n",
      "80\n",
      "81\n",
      "82\n",
      "83\n",
      "84\n",
      "85\n",
      "86\n",
      "87\n",
      "88\n",
      "89\n",
      "90\n",
      "91\n",
      "92\n",
      "93\n",
      "94\n",
      "95\n",
      "96\n",
      "97\n",
      "98\n",
      "99\n"
     ]
    }
   ],
   "source": [
    "import time\n",
    "for i in range(100):\n",
    "    print(i)\n",
    "    time.sleep(1)"
   ]
  },
  {
   "cell_type": "markdown",
   "id": "bb5cc5bf-5478-45f2-9896-969c2c194fb2",
   "metadata": {},
   "source": [
    "---\n",
    "### 시각화 예제 1 : 그래프\n",
    "- matplotlib를 이용하면 다양한 그래프를 그릴 수 있으며 수행 결과를 바로 확인할 수 있습니다"
   ]
  },
  {
   "cell_type": "code",
   "execution_count": 17,
   "id": "fe275752-3af5-44be-8db5-a9acc8a08bcf",
   "metadata": {},
   "outputs": [
    {
     "data": {
      "image/png": "[encoded data removed]",
      "text/plain": [
       "<Figure size 640x480 with 1 Axes>"
      ]
     },
     "metadata": {},
     "output_type": "display_data"
    }
   ],
   "source": [
    "import matplotlib.pyplot as plt\n",
    "\n",
    "plt.plot([1, 2, 3, 4])\n",
    "plt.ylabel('some numbers')\n",
    "plt.show()"
   ]
  },
  {
   "cell_type": "markdown",
   "id": "36650cf2-2f72-481b-bd35-080a2841fd76",
   "metadata": {},
   "source": [
    "## 시각화 예제 2 : 테이블\n",
    "\n",
    "- pandas 는 복잡한 데이터를 분석할 때 아주 유용합니다."
   ]
  },
  {
   "cell_type": "code",
   "execution_count": 18,
   "id": "bea3949c-1047-45b5-bf32-c6681a93cfc4",
   "metadata": {},
   "outputs": [
    {
     "data": {
      "text/html": [
       "<style type=\"text/css\">\n",
       "</style>\n",
       "<table id=\"T_37932\">\n",
       "  <thead>\n",
       "    <tr>\n",
       "      <th class=\"blank level0\" >&nbsp;</th>\n",
       "      <th id=\"T_37932_level0_col0\" class=\"col_heading level0 col0\" >STRINGS</th>\n",
       "      <th id=\"T_37932_level0_col1\" class=\"col_heading level0 col1\" >INTS</th>\n",
       "      <th id=\"T_37932_level0_col2\" class=\"col_heading level0 col2\" >FLOATS</th>\n",
       "    </tr>\n",
       "  </thead>\n",
       "  <tbody>\n",
       "    <tr>\n",
       "      <th id=\"T_37932_level0_row0\" class=\"row_heading level0 row0\" >row 1</th>\n",
       "      <td id=\"T_37932_row0_col0\" class=\"data row0 col0\" >Adam</td>\n",
       "      <td id=\"T_37932_row0_col1\" class=\"data row0 col1\" >1</td>\n",
       "      <td id=\"T_37932_row0_col2\" class=\"data row0 col2\" >1,123</td>\n",
       "    </tr>\n",
       "    <tr>\n",
       "      <th id=\"T_37932_level0_row1\" class=\"row_heading level0 row1\" >row 2</th>\n",
       "      <td id=\"T_37932_row1_col0\" class=\"data row1 col0\" >Mike</td>\n",
       "      <td id=\"T_37932_row1_col1\" class=\"data row1 col1\" >3</td>\n",
       "      <td id=\"T_37932_row1_col2\" class=\"data row1 col2\" >1.000,230</td>\n",
       "    </tr>\n",
       "  </tbody>\n",
       "</table>\n"
      ],
      "text/plain": [
       "<pandas.io.formats.style.Styler at 0x1063ac700>"
      ]
     },
     "execution_count": 18,
     "metadata": {},
     "output_type": "execute_result"
    }
   ],
   "source": [
    "import pandas as pd\n",
    "import numpy as np\n",
    "import matplotlib as mpl\n",
    "\n",
    "df = pd.DataFrame({\n",
    "    \"strings\": [\"Adam\", \"Mike\"],\n",
    "    \"ints\": [1, 3],\n",
    "    \"floats\": [1.123, 1000.23]\n",
    "})\n",
    "df.style \\\n",
    "  .format(precision=3, thousands=\".\", decimal=\",\") \\\n",
    "  .format_index(str.upper, axis=1) \\\n",
    "  .relabel_index([\"row 1\", \"row 2\"], axis=0)"
   ]
  },
  {
   "cell_type": "code",
   "execution_count": null,
   "id": "dbf11d2b-709e-4bb5-8e39-1d39e956745f",
   "metadata": {},
   "outputs": [],
   "source": []
  }
 ],
 "metadata": {
  "kernelspec": {
   "display_name": "Python 3 (ipykernel)",
   "language": "python",
   "name": "python3"
  },
  "language_info": {
   "codemirror_mode": {
    "name": "ipython",
    "version": 3
   },
   "file_extension": ".py",
   "mimetype": "text/x-python",
   "name": "python",
   "nbconvert_exporter": "python",
   "pygments_lexer": "ipython3",
   "version": "3.9.18"
  }
 },
 "nbformat": 4,
 "nbformat_minor": 5
}
